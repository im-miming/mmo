{
 "cells": [
  {
   "cell_type": "code",
   "execution_count": 1,
   "id": "122dbded-60b0-43bd-b29c-aff951f015c6",
   "metadata": {},
   "outputs": [
    {
     "data": {
      "text/plain": [
       "'\\nMonarch Mayfly Optimization (MMO) Algorithm for Feature Selection\\n=================================================================\\nThis implementation of the Monarch Mayfly Optimization (MMO) algorithm\\nis a hybrid of the Monarch Butterfly Optimization (MBO) and the Mayfly Algorithm (MA).\\nSources and Acknowledgements:\\n-----------------------------\\n1. Monarch Butterfly Optimization (MBO):\\n- Original implementation in Python by Justin van Zyl.\\n- Based on the study:\\nWang G., Deb S., Cui Z., \"Monarch Butterfly Optimization,\" Neural Comput & Applic 31:1995-2014.\\ndoi: 10.1007/s00521-015-1923-y.\\n- Key operations utilized: Migration Operator, Adjusting Operator, and Elitism.\\n2. Mayfly Algorithm (MA):\\n- Extracted from the hybrid feature selection study:\\nBhattacharyya, T., Chatterjee, B., Singh, P. K., Yoon, J. H., Geem, Z. W., & Sarkar, R. (2020).\\n\"Mayfly in harmony: A new hybrid meta-heuristic feature selection algorithm,\" IEEE Access, 8, 195929-195945.\\n- The study hybridized MA with Harmony Search (HS). The MA part is used in this MMO hybrid.\\nDisclaimer:\\n-----------\\nThis code is a hybrid implementation of the aforementioned algorithms and combines elements from both\\nto create the MMO algorithm for the purpose of feature selection. Full credit goes to the original authors\\nfor their contributions.\\n'"
      ]
     },
     "execution_count": 1,
     "metadata": {},
     "output_type": "execute_result"
    }
   ],
   "source": [
    "\"\"\"\n",
    "Monarch Mayfly Optimization (MMO) Algorithm for Feature Selection\n",
    "=================================================================\n",
    "This implementation of the Monarch Mayfly Optimization (MMO) algorithm\n",
    "is a hybrid of the Monarch Butterfly Optimization (MBO) and the Mayfly Algorithm (MA).\n",
    "Sources and Acknowledgements:\n",
    "-----------------------------\n",
    "1. Monarch Butterfly Optimization (MBO):\n",
    "- Original implementation in Python by Justin van Zyl.\n",
    "- Based on the study:\n",
    "Wang G., Deb S., Cui Z., \"Monarch Butterfly Optimization,\" Neural Comput & Applic 31:1995-2014.\n",
    "doi: 10.1007/s00521-015-1923-y.\n",
    "- Key operations utilized: Migration Operator, Adjusting Operator, and Elitism.\n",
    "2. Mayfly Algorithm (MA):\n",
    "- Extracted from the hybrid feature selection study:\n",
    "Bhattacharyya, T., Chatterjee, B., Singh, P. K., Yoon, J. H., Geem, Z. W., & Sarkar, R. (2020).\n",
    "\"Mayfly in harmony: A new hybrid meta-heuristic feature selection algorithm,\" IEEE Access, 8, 195929-195945.\n",
    "- The study hybridized MA with Harmony Search (HS). The MA part is used in this MMO hybrid.\n",
    "Disclaimer:\n",
    "-----------\n",
    "This code is a hybrid implementation of the aforementioned algorithms and combines elements from both\n",
    "to create the MMO algorithm for the purpose of feature selection. Full credit goes to the original authors\n",
    "for their contributions.\n",
    "\"\"\""
   ]
  },
  {
   "cell_type": "code",
   "execution_count": 2,
   "id": "f18004e0-61f6-4836-a7c9-8fa0ab3350f8",
   "metadata": {},
   "outputs": [],
   "source": [
    "import numpy as np\n",
    "import pandas as pd\n",
    "import math\n",
    "import random\n",
    "from time import process_time\n",
    "from sklearn.metrics import accuracy_score\n",
    "from sklearn.model_selection import train_test_split\n",
    "from sklearn.neighbors import KNeighborsClassifier"
   ]
  },
  {
   "cell_type": "code",
   "execution_count": 3,
   "id": "d3e4ebdc-b53a-4ed3-b1c3-a747711d8493",
   "metadata": {},
   "outputs": [],
   "source": [
    "start_time = process_time()"
   ]
  },
  {
   "cell_type": "code",
   "execution_count": 6,
   "id": "038113b4-15f4-4554-b49c-54cb19e7f677",
   "metadata": {},
   "outputs": [],
   "source": [
    "# Load dataset\n",
    "df = pd.read_csv('datasets\\Breastcancer.csv')\n",
    "tot_features = len(df.columns) - 1\n",
    "x = df[df.columns[:tot_features]]\n",
    "y = df[df.columns[-1]]\n",
    "x_train, x_test, y_train, y_test = train_test_split(x, y, test_size=0.2, stratify=y)"
   ]
  },
  {
   "cell_type": "code",
   "execution_count": 7,
   "id": "d6ad472f-7536-4e06-b1b8-4b014520d9e3",
   "metadata": {},
   "outputs": [
    {
     "data": {
      "text/plain": [
       "0.6571428571428571"
      ]
     },
     "execution_count": 7,
     "metadata": {},
     "output_type": "execute_result"
    }
   ],
   "source": [
    "# Train classifier using original dataset\n",
    "_classifier = KNeighborsClassifier(n_neighbors=5)\n",
    "_classifier.fit(x_train, y_train)\n",
    "predictions = _classifier.predict(x_test)\n",
    "total_acc = accuracy_score(y_true=y_test, y_pred=predictions)\n",
    "total_error = 1 - total_acc\n",
    "total_features = tot_features\n",
    "total_acc"
   ]
  },
  {
   "cell_type": "code",
   "execution_count": 8,
   "id": "63e31315-0c5b-4948-b977-9d10844d02ec",
   "metadata": {},
   "outputs": [],
   "source": [
    "# Controlling parameters\n",
    "swarm_size = 20\n",
    "max_iterations = 20\n",
    "alpha = 0.01\n",
    "a1 = 3\n",
    "a2 = 3.5\n",
    "beta = 0.1\n",
    "d = 3\n",
    "fl = 3\n",
    "l = 0.95\n",
    "g = 1\n",
    "delta = 0.9\n",
    "lf_size = 1\n",
    "adjusting_rate = 0.1\n",
    "p = float(6/12)\n",
    "s_max = 0.02\n",
    "gmax=9.8\n",
    "gmin=6\n",
    "max_neighbors = 20"
   ]
  },
  {
   "cell_type": "code",
   "execution_count": 11,
   "id": "124a09b5-8ae2-4089-8bd2-dd733a88ea25",
   "metadata": {},
   "outputs": [],
   "source": [
    "# Population structure and Initialization\n",
    "subpop_size = swarm_size // 2\n",
    "NP1_male_swarm_vel = np.zeros((subpop_size, tot_features))\n",
    "NP1_female_swarm_vel = np.zeros((subpop_size, tot_features))\n",
    "NP2_male_swarm_vel = np.zeros((subpop_size, tot_features))\n",
    "NP2_female_swarm_vel = np.zeros((subpop_size, tot_features))\n",
    "\n",
    "NP1_male_swarm_pos = np.random.uniform(low=-1, high=1, size=(subpop_size, tot_features))\n",
    "NP1_female_swarm_pos = np.random.uniform(low=-1, high=1, size=(subpop_size, tot_features))\n",
    "NP2_male_swarm_pos = np.random.uniform(low=-1, high=1, size=(subpop_size, tot_features))\n",
    "NP2_female_swarm_pos = np.random.uniform(low=-1, high=1, size=(subpop_size, tot_features))\n",
    "\n",
    "gbest_fitness = 1000000\n",
    "pbest_fitness = np.empty(swarm_size)\n",
    "pbest_fitness.fill(np.inf)\n",
    "pbest = np.zeros((swarm_size, tot_features))\n",
    "gbest = np.zeros(tot_features)\n",
    "NP1_male_fitness = np.empty(subpop_size)\n",
    "NP1_female_fitness = np.empty(subpop_size)\n",
    "NP2_male_fitness = np.empty(subpop_size)\n",
    "NP2_female_fitness = np.empty(subpop_size)\n",
    "NP1_vmax_male = np.empty(tot_features)\n",
    "NP1_vmax_female = np.empty(tot_features)\n",
    "NP2_vmax_male = np.empty(tot_features)\n",
    "NP2_vmax_female = np.empty(tot_features)"
   ]
  },
  {
   "cell_type": "code",
   "execution_count": 13,
   "id": "ed36f569-fc04-4395-8339-87c39a0fe1f8",
   "metadata": {},
   "outputs": [],
   "source": [
    "# S-shaped transfer function\n",
    "def transfer_func(velocity):\n",
    "    s1 = np.abs(velocity) * 0.5 + 1\n",
    "    s1 = (-velocity) / s1 + 0.5\n",
    "    return s1"
   ]
  },
  {
   "cell_type": "code",
   "execution_count": 14,
   "id": "b68cffa5-8244-438d-aee3-45a4dc8958d3",
   "metadata": {},
   "outputs": [],
   "source": [
    "# Fitness function\n",
    "def find_fitness(particle):\n",
    "    features = [df.columns[i] for i, v in enumerate(transfer_func(particle)) if v >= 0.25]\n",
    "    if not features:\n",
    "        return 10000\n",
    "    new_x_train = x_train[features].copy()\n",
    "    new_x_test = x_test[features].copy()\n",
    "    _classifier = KNeighborsClassifier(n_neighbors=5)\n",
    "    _classifier.fit(new_x_train, y_train)\n",
    "    predictions = _classifier.predict(new_x_test)\n",
    "    acc = accuracy_score(y_true=y_test, y_pred=predictions)\n",
    "    err = 1 - acc\n",
    "    num_features = len(features)\n",
    "    fitness = alpha * (num_features / total_features) + (1 - alpha) * err\n",
    "    return fitness"
   ]
  },
  {
   "cell_type": "code",
   "execution_count": 16,
   "id": "c7064203-7229-4653-b403-d94896cf6d24",
   "metadata": {},
   "outputs": [],
   "source": [
    "# Levy Flight function\n",
    "def levy_flight(size):\n",
    "    return np.sum(np.tan(math.pi * np.random.uniform(low=0, high=1, size=(1, size))))"
   ]
  },
  {
   "cell_type": "code",
   "execution_count": 18,
   "id": "1d50647f-2d96-433a-8dfa-41f22ce7d4c6",
   "metadata": {},
   "outputs": [],
   "source": [
    "def migration_operator(migrant_male_swarm_pos, female_swarm_pos, male_swarm_pos, peri, p):\n",
    "    D = len(migrant_male_swarm_pos[0]) # Assuming all butterflies have the same dimensionality D\n",
    "    \n",
    "    for i in range(subpop_size):\n",
    "        # Evaluate fitness for the current butterfly\n",
    "        current_fitness = find_fitness(migrant_male_swarm_pos[i][1:])\n",
    "\n",
    "        for k in range(1, D): # Starting from 1 as the 0th element is skipped (fitness)\n",
    "            rand = np.random.uniform(low=0, high=1)\n",
    "            r = rand * peri\n",
    "            if r <= p:\n",
    "                random_female_index = np.random.randint(0, subpop_size)\n",
    "                selected_butterfly = female_swarm_pos[random_female_index]\n",
    "            else:\n",
    "                random_female_index = np.random.randint(0, subpop_size)\n",
    "                selected_butterfly = male_swarm_pos[random_female_index]\n",
    "\n",
    "            # Generate the kth element of the new butterfly\n",
    "            migrant_male_swarm_pos[i][k] = selected_butterfly[k]\n",
    "\n",
    "        # Evaluate fitness for the new butterfly\n",
    "        new_fitness = find_fitness(migrant_male_swarm_pos[i][1:])\n",
    "\n",
    "        # If the new fitness is better, update the 0th element of the butterfly\n",
    "        if new_fitness < current_fitness:\n",
    "            migrant_male_swarm_pos[i][0] = new_fitness\n",
    "\n",
    "        # Print relevant information for debugging\n",
    "        #print(f\"For mayfly {i}: Current Fitness: {current_fitness}, New Fitness: {new_fitness}\")\n",
    "\n",
    "    return migrant_male_swarm_pos"
   ]
  },
  {
   "cell_type": "code",
   "execution_count": null,
   "id": "9b049d0c-cb1d-4684-8532-1ec440840aa2",
   "metadata": {},
   "outputs": [],
   "source": []
  },
  {
   "cell_type": "code",
   "execution_count": 19,
   "id": "29f41e46-0647-4243-8187-059580d736c1",
   "metadata": {},
   "outputs": [],
   "source": [
    "def update_vmax(swarm_pos_male, swarm_pos_female, vmax_male, vmax_female, subpop_size):\n",
    "    for j in range(len(vmax_male)):\n",
    "        r = np.random.normal(0, 1)\n",
    "        index_male = min(subpop_size - 1, len(swarm_pos_male) - 1)\n",
    "        index_female = min(subpop_size - 1, len(swarm_pos_female) - 1)\n",
    "\n",
    "        vmax_male[j] = (swarm_pos_male[0][j] - swarm_pos_male[index_male][j]) * r\n",
    "        vmax_female[j] = (swarm_pos_female[0][j] - swarm_pos_female[index_female][j]) * r"
   ]
  },
  {
   "cell_type": "code",
   "execution_count": null,
   "id": "514d5011-a432-49d1-83aa-30c1287b2594",
   "metadata": {},
   "outputs": [],
   "source": [
    "def sort_population(population_pos, population_vel):\n",
    "    # Calculate fitness for each individual\n",
    "    population_fitness = np.array([find_fitness(individual) for individual in population_pos])\n",
    "    \n",
    "    # Sort the population based on fitness\n",
    "    sort_order = np.argsort(population_fitness)\n",
    "    population_fitness = population_fitness[sort_order]\n",
    "    population_pos = population_pos[sort_order]\n",
    "    population_vel = population_vel[sort_order]\n",
    "\n",
    "    return population_fitness, population_pos, population_vel"
   ]
  }
 ],
 "metadata": {
  "kernelspec": {
   "display_name": "Python 3 (ipykernel)",
   "language": "python",
   "name": "python3"
  },
  "language_info": {
   "codemirror_mode": {
    "name": "ipython",
    "version": 3
   },
   "file_extension": ".py",
   "mimetype": "text/x-python",
   "name": "python",
   "nbconvert_exporter": "python",
   "pygments_lexer": "ipython3",
   "version": "3.9.18"
  }
 },
 "nbformat": 4,
 "nbformat_minor": 5
}
